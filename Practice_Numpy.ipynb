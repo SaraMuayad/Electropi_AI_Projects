{
  "cells": [
    {
      "cell_type": "markdown",
      "metadata": {
        "id": "view-in-github",
        "colab_type": "text"
      },
      "source": [
        "<a href=\"https://colab.research.google.com/github/SaraMuayad/Electropi_AI_Projects/blob/main/Practice_Numpy.ipynb\" target=\"_parent\"><img src=\"https://colab.research.google.com/assets/colab-badge.svg\" alt=\"Open In Colab\"/></a>"
      ]
    },
    {
      "cell_type": "code",
      "execution_count": 1,
      "metadata": {
        "id": "mxZO-z6f-HNS",
        "colab": {
          "base_uri": "https://localhost:8080/"
        },
        "outputId": "b1cdf397-c644-4f30-fd35-52ffd47fa34d"
      },
      "outputs": [
        {
          "output_type": "stream",
          "name": "stdout",
          "text": [
            "Requirement already satisfied: numpy in /usr/local/lib/python3.11/dist-packages (2.0.2)\n"
          ]
        }
      ],
      "source": [
        "!pip install numpy"
      ]
    },
    {
      "cell_type": "markdown",
      "source": [
        "1. Import numpy library"
      ],
      "metadata": {
        "id": "ntZBIro4BRAl"
      }
    },
    {
      "cell_type": "code",
      "source": [
        "import numpy as np"
      ],
      "metadata": {
        "id": "cGPpLoUrBTwA"
      },
      "execution_count": 2,
      "outputs": []
    },
    {
      "cell_type": "raw",
      "metadata": {
        "id": "9_HwuvBf-HNV"
      },
      "source": [
        "2. create an array to have 10 zeros"
      ]
    },
    {
      "cell_type": "markdown",
      "metadata": {
        "id": "YVKFFaXy-HNZ"
      },
      "source": [
        "3. Create an array to have 10 ones"
      ]
    },
    {
      "cell_type": "code",
      "execution_count": 12,
      "metadata": {
        "id": "kD5tqy-a-HNa",
        "outputId": "e9c05451-f6d9-4b08-c0eb-fbe3f52fdf20",
        "colab": {
          "base_uri": "https://localhost:8080/"
        }
      },
      "outputs": [
        {
          "output_type": "execute_result",
          "data": {
            "text/plain": [
              "array([1., 1., 1., 1., 1., 1., 1., 1., 1., 1.])"
            ]
          },
          "metadata": {},
          "execution_count": 12
        }
      ],
      "source": [
        "array_ones = np.ones(10)\n",
        "array_ones"
      ]
    },
    {
      "cell_type": "markdown",
      "metadata": {
        "id": "O-vUnIuZ-HNb"
      },
      "source": [
        "4. Create an array to have 10 fives"
      ]
    },
    {
      "cell_type": "code",
      "execution_count": 11,
      "metadata": {
        "id": "IzpgejO2-HNc",
        "outputId": "1eb25de7-ad52-497a-b694-e403b28258e7",
        "colab": {
          "base_uri": "https://localhost:8080/"
        }
      },
      "outputs": [
        {
          "output_type": "execute_result",
          "data": {
            "text/plain": [
              "array([5, 5, 5, 5, 5, 5, 5, 5, 5, 5])"
            ]
          },
          "metadata": {},
          "execution_count": 11
        }
      ],
      "source": [
        "array_fives = np.full(10,5)\n",
        "array_fives"
      ]
    },
    {
      "cell_type": "markdown",
      "metadata": {
        "id": "WiN3MRYO-HNd"
      },
      "source": [
        "5. Create an array contain numbers from 10 to 50"
      ]
    },
    {
      "cell_type": "code",
      "execution_count": 10,
      "metadata": {
        "id": "gW_yfJXl-HNe",
        "outputId": "0f96309c-8afa-4243-cdb6-5c8b870bdedd",
        "colab": {
          "base_uri": "https://localhost:8080/"
        }
      },
      "outputs": [
        {
          "output_type": "execute_result",
          "data": {
            "text/plain": [
              "array([10, 11, 12, 13, 14, 15, 16, 17, 18, 19, 20, 21, 22, 23, 24, 25, 26,\n",
              "       27, 28, 29, 30, 31, 32, 33, 34, 35, 36, 37, 38, 39, 40, 41, 42, 43,\n",
              "       44, 45, 46, 47, 48, 49, 50])"
            ]
          },
          "metadata": {},
          "execution_count": 10
        }
      ],
      "source": [
        "array_between = np.arange(10,51)\n",
        "array_between"
      ]
    },
    {
      "cell_type": "markdown",
      "metadata": {
        "id": "Lsz04-rX-HNf"
      },
      "source": [
        "6. Create an array of even numbers between 10 to 50"
      ]
    },
    {
      "cell_type": "code",
      "execution_count": 9,
      "metadata": {
        "id": "dPJwd0Rm-HNg",
        "outputId": "6a50e760-ba28-4be7-eb78-6e75d0394da2",
        "colab": {
          "base_uri": "https://localhost:8080/"
        }
      },
      "outputs": [
        {
          "output_type": "execute_result",
          "data": {
            "text/plain": [
              "array([10, 12, 14, 16, 18, 20, 22, 24, 26, 28, 30, 32, 34, 36, 38, 40, 42,\n",
              "       44, 46, 48, 50])"
            ]
          },
          "metadata": {},
          "execution_count": 9
        }
      ],
      "source": [
        "array_even_number = np.arange(10,51,2)\n",
        "array_even_number"
      ]
    },
    {
      "cell_type": "markdown",
      "metadata": {
        "id": "NpOg1FcY-HNg"
      },
      "source": [
        "7. Create a matrix (3x3) from numbers 0 to 8"
      ]
    },
    {
      "cell_type": "code",
      "execution_count": 13,
      "metadata": {
        "id": "0ADwmNLM-HNh",
        "outputId": "ede19ef1-b520-4889-88a7-090d417e4f8f",
        "colab": {
          "base_uri": "https://localhost:8080/"
        }
      },
      "outputs": [
        {
          "output_type": "execute_result",
          "data": {
            "text/plain": [
              "array([[0, 1, 2],\n",
              "       [3, 4, 5],\n",
              "       [6, 7, 8]])"
            ]
          },
          "metadata": {},
          "execution_count": 13
        }
      ],
      "source": [
        "matrix = np.arange(9).reshape(3,3)\n",
        "matrix"
      ]
    },
    {
      "cell_type": "markdown",
      "metadata": {
        "id": "oxwbGobK-HNi"
      },
      "source": [
        "8. create a matrix (3x3) with random numbers"
      ]
    },
    {
      "cell_type": "code",
      "execution_count": 19,
      "metadata": {
        "id": "qjJvdPhY-HNj",
        "outputId": "e9c0cc64-dd3e-4b62-95c0-cd4e67d40b3d",
        "colab": {
          "base_uri": "https://localhost:8080/"
        }
      },
      "outputs": [
        {
          "output_type": "execute_result",
          "data": {
            "text/plain": [
              "array([[0.8412147 , 0.83350836, 0.59532751],\n",
              "       [0.50256692, 0.53224019, 0.30233913],\n",
              "       [0.4704027 , 0.26900119, 0.40877976]])"
            ]
          },
          "metadata": {},
          "execution_count": 19
        }
      ],
      "source": [
        "random_mat = np.random.rand(3, 3)\n",
        "random_mat"
      ]
    },
    {
      "cell_type": "markdown",
      "metadata": {
        "id": "_yXPI4ss-HNj"
      },
      "source": [
        "9. Create a matrix (3x3) with standard normal random numbers around zero value"
      ]
    },
    {
      "cell_type": "code",
      "execution_count": 93,
      "metadata": {
        "id": "A42KvQIM-HNk",
        "outputId": "5c7b73cd-4294-4b03-a8a2-8fef0ec6f0fc",
        "colab": {
          "base_uri": "https://localhost:8080/"
        }
      },
      "outputs": [
        {
          "output_type": "stream",
          "name": "stdout",
          "text": [
            "[[ 0.89205752  0.70442993 -0.95097753]\n",
            " [ 0.25808053  0.98668283 -1.75917448]\n",
            " [ 1.001037    1.1016197   0.52756569]]\n"
          ]
        }
      ],
      "source": [
        "normal_matrix = np.random.randn(3, 3)\n",
        "print(normal_matrix)"
      ]
    },
    {
      "cell_type": "code",
      "execution_count": 92,
      "metadata": {
        "id": "6b5Ql3Wf-HNm",
        "outputId": "fda3fe4f-63e2-4b1d-ced1-1a6cfe21184a",
        "colab": {
          "base_uri": "https://localhost:8080/"
        }
      },
      "outputs": [
        {
          "output_type": "stream",
          "name": "stdout",
          "text": [
            "[[0.01 0.02 0.03 0.04 0.05 0.06 0.07 0.08 0.09 0.1 ]\n",
            " [0.11 0.12 0.13 0.14 0.15 0.16 0.17 0.18 0.19 0.2 ]\n",
            " [0.21 0.22 0.23 0.24 0.25 0.26 0.27 0.28 0.29 0.3 ]\n",
            " [0.31 0.32 0.33 0.34 0.35 0.36 0.37 0.38 0.39 0.4 ]\n",
            " [0.41 0.42 0.43 0.44 0.45 0.46 0.47 0.48 0.49 0.5 ]\n",
            " [0.51 0.52 0.53 0.54 0.55 0.56 0.57 0.58 0.59 0.6 ]\n",
            " [0.61 0.62 0.63 0.64 0.65 0.66 0.67 0.68 0.69 0.7 ]\n",
            " [0.71 0.72 0.73 0.74 0.75 0.76 0.77 0.78 0.79 0.8 ]\n",
            " [0.81 0.82 0.83 0.84 0.85 0.86 0.87 0.88 0.89 0.9 ]\n",
            " [0.91 0.92 0.93 0.94 0.95 0.96 0.97 0.98 0.99 1.  ]]\n"
          ]
        }
      ],
      "source": [
        "arr_matrix = np.arange(0.01, 1.01, 0.01)\n",
        "matrix = arr_matrix.reshape(10, 10)\n",
        "matrix = matrix.reshape(10, 10)\n",
        "print(matrix)"
      ]
    },
    {
      "cell_type": "code",
      "execution_count": 91,
      "metadata": {
        "id": "JTjz-wNT-HNn",
        "outputId": "ec09d180-75ff-41e1-f6ca-a038c4699cca",
        "colab": {
          "base_uri": "https://localhost:8080/"
        }
      },
      "outputs": [
        {
          "output_type": "execute_result",
          "data": {
            "text/plain": [
              "array([[0.01, 0.02, 0.03, 0.04, 0.05, 0.06, 0.07, 0.08, 0.09, 0.1 ],\n",
              "       [0.11, 0.12, 0.13, 0.14, 0.15, 0.16, 0.17, 0.18, 0.19, 0.2 ],\n",
              "       [0.21, 0.22, 0.23, 0.24, 0.25, 0.26, 0.27, 0.28, 0.29, 0.3 ],\n",
              "       [0.31, 0.32, 0.33, 0.34, 0.35, 0.36, 0.37, 0.38, 0.39, 0.4 ],\n",
              "       [0.41, 0.42, 0.43, 0.44, 0.45, 0.46, 0.47, 0.48, 0.49, 0.5 ],\n",
              "       [0.51, 0.52, 0.53, 0.54, 0.55, 0.56, 0.57, 0.58, 0.59, 0.6 ],\n",
              "       [0.61, 0.62, 0.63, 0.64, 0.65, 0.66, 0.67, 0.68, 0.69, 0.7 ],\n",
              "       [0.71, 0.72, 0.73, 0.74, 0.75, 0.76, 0.77, 0.78, 0.79, 0.8 ],\n",
              "       [0.81, 0.82, 0.83, 0.84, 0.85, 0.86, 0.87, 0.88, 0.89, 0.9 ],\n",
              "       [0.91, 0.92, 0.93, 0.94, 0.95, 0.96, 0.97, 0.98, 0.99, 1.  ]])"
            ]
          },
          "metadata": {},
          "execution_count": 91
        }
      ],
      "source": [
        "matrix = []\n",
        "value = 0.01\n",
        "for i in range(10):\n",
        "    row = []\n",
        "    for j in range(10):\n",
        "        row.append(round(value, 2))\n",
        "        value += 0.01\n",
        "    matrix.append(row)\n",
        "\n",
        "\n",
        "matrix_two = np.array(matrix)\n",
        "matrix_two"
      ]
    },
    {
      "cell_type": "markdown",
      "metadata": {
        "id": "-_dlFNMC-HNo"
      },
      "source": [
        "11. Create an array include 20 numbers with equal distance between zero and one"
      ]
    },
    {
      "cell_type": "code",
      "execution_count": 22,
      "metadata": {
        "id": "ZbzIkt_9-HNp",
        "outputId": "67da986c-8ad4-44e8-a20f-92004516e787",
        "colab": {
          "base_uri": "https://localhost:8080/"
        }
      },
      "outputs": [
        {
          "output_type": "execute_result",
          "data": {
            "text/plain": [
              "array([0.        , 0.05263158, 0.10526316, 0.15789474, 0.21052632,\n",
              "       0.26315789, 0.31578947, 0.36842105, 0.42105263, 0.47368421,\n",
              "       0.52631579, 0.57894737, 0.63157895, 0.68421053, 0.73684211,\n",
              "       0.78947368, 0.84210526, 0.89473684, 0.94736842, 1.        ])"
            ]
          },
          "metadata": {},
          "execution_count": 22
        }
      ],
      "source": [
        "linspace_array = np.linspace(0, 1, 20)\n",
        "linspace_array"
      ]
    },
    {
      "cell_type": "markdown",
      "metadata": {
        "id": "aunhNubF-HNp"
      },
      "source": [
        "12. first create the following matrix and then find the following subsections of the array"
      ]
    },
    {
      "cell_type": "code",
      "execution_count": 23,
      "metadata": {
        "id": "yjCrnqfu-HNq"
      },
      "outputs": [],
      "source": [
        "mat =np.array([[ 1,  2,  3,  4,  5],\n",
        "       [ 6,  7,  8,  9, 10],\n",
        "       [11, 12, 13, 14, 15],\n",
        "       [16, 17, 18, 19, 20],\n",
        "       [21, 22, 23, 24, 25]])"
      ]
    },
    {
      "cell_type": "code",
      "execution_count": 24,
      "metadata": {
        "id": "-hhzvTs3-HNq",
        "outputId": "c4c8fd99-00ba-46ee-e255-eae833b5cda5",
        "colab": {
          "base_uri": "https://localhost:8080/"
        }
      },
      "outputs": [
        {
          "output_type": "execute_result",
          "data": {
            "text/plain": [
              "array([[ 1,  2,  3,  4,  5],\n",
              "       [ 6,  7,  8,  9, 10],\n",
              "       [11, 12, 13, 14, 15],\n",
              "       [16, 17, 18, 19, 20],\n",
              "       [21, 22, 23, 24, 25]])"
            ]
          },
          "metadata": {},
          "execution_count": 24
        }
      ],
      "source": [
        "mat"
      ]
    },
    {
      "cell_type": "code",
      "execution_count": 28,
      "metadata": {
        "id": "Gmc8OZRr-HNs",
        "outputId": "64f35c25-7352-4b02-8a4f-e753862ac0c2",
        "colab": {
          "base_uri": "https://localhost:8080/"
        }
      },
      "outputs": [
        {
          "output_type": "execute_result",
          "data": {
            "text/plain": [
              "array([[12, 13, 14, 15],\n",
              "       [17, 18, 19, 20],\n",
              "       [22, 23, 24, 25]])"
            ]
          },
          "metadata": {},
          "execution_count": 28
        }
      ],
      "source": [
        "mat[2:5, 1:5]"
      ]
    },
    {
      "cell_type": "code",
      "execution_count": 87,
      "metadata": {
        "id": "NA9zvGmF-HNt",
        "outputId": "1b26617c-52eb-4f13-dd00-6cb94d20441f",
        "colab": {
          "base_uri": "https://localhost:8080/"
        }
      },
      "outputs": [
        {
          "output_type": "stream",
          "name": "stdout",
          "text": [
            "20\n"
          ]
        }
      ],
      "source": [
        "mat[3,4]\n",
        "print(mat[3,4])"
      ]
    },
    {
      "cell_type": "code",
      "execution_count": 34,
      "metadata": {
        "id": "EAcHCKz3-HNu",
        "outputId": "420ac157-e0a5-461a-bea5-b288740365a2",
        "colab": {
          "base_uri": "https://localhost:8080/"
        }
      },
      "outputs": [
        {
          "output_type": "execute_result",
          "data": {
            "text/plain": [
              "array([[ 2,  7, 12]])"
            ]
          },
          "metadata": {},
          "execution_count": 34
        }
      ],
      "source": [
        "mat[0:3,1:2].reshape(1,3)"
      ]
    },
    {
      "cell_type": "code",
      "execution_count": 38,
      "metadata": {
        "id": "LrqWpbEG-HNu",
        "outputId": "0d61ff58-191d-470b-b855-ecada1b31d22",
        "colab": {
          "base_uri": "https://localhost:8080/"
        }
      },
      "outputs": [
        {
          "output_type": "execute_result",
          "data": {
            "text/plain": [
              "array([[21, 22, 23, 24, 25]])"
            ]
          },
          "metadata": {},
          "execution_count": 38
        }
      ],
      "source": [
        "mat[4:5]"
      ]
    },
    {
      "cell_type": "code",
      "execution_count": 40,
      "metadata": {
        "id": "f8yPa_AH-HNv",
        "outputId": "211f5a63-c17d-4104-c207-e0c363a20f35",
        "colab": {
          "base_uri": "https://localhost:8080/"
        }
      },
      "outputs": [
        {
          "output_type": "execute_result",
          "data": {
            "text/plain": [
              "array([[16, 17, 18, 19, 20],\n",
              "       [21, 22, 23, 24, 25]])"
            ]
          },
          "metadata": {},
          "execution_count": 40
        }
      ],
      "source": [
        "mat[3:5]"
      ]
    },
    {
      "cell_type": "code",
      "execution_count": 61,
      "metadata": {
        "id": "O5W_BkTE-HNw",
        "outputId": "467e1eba-4af0-4abd-88c2-13f260ce13ef",
        "colab": {
          "base_uri": "https://localhost:8080/"
        }
      },
      "outputs": [
        {
          "output_type": "execute_result",
          "data": {
            "text/plain": [
              "array([[ 1,  2,  3,  4,  5],\n",
              "       [11, 12, 13, 14, 15],\n",
              "       [21, 22, 23, 24, 25]])"
            ]
          },
          "metadata": {},
          "execution_count": 61
        }
      ],
      "source": [
        "mat[[0, 2, 4], :]\n"
      ]
    },
    {
      "cell_type": "code",
      "execution_count": 41,
      "metadata": {
        "id": "DhVAs76s-HNw",
        "outputId": "54418fda-7878-496d-c8ba-89ff63b91128",
        "colab": {
          "base_uri": "https://localhost:8080/"
        }
      },
      "outputs": [
        {
          "output_type": "execute_result",
          "data": {
            "text/plain": [
              "array([[ 1,  2,  3,  4,  5],\n",
              "       [ 6,  7,  8,  9, 10],\n",
              "       [11, 12, 13, 14, 15],\n",
              "       [16, 17, 18, 19, 20],\n",
              "       [21, 22, 23, 24, 25]])"
            ]
          },
          "metadata": {},
          "execution_count": 41
        }
      ],
      "source": [
        "mat"
      ]
    },
    {
      "cell_type": "code",
      "execution_count": 62,
      "metadata": {
        "id": "pBTucNbT-HNx",
        "outputId": "8436c83c-688c-4863-99f6-e2f8928613a1",
        "colab": {
          "base_uri": "https://localhost:8080/"
        }
      },
      "outputs": [
        {
          "output_type": "execute_result",
          "data": {
            "text/plain": [
              "array([[ 1,  3,  5],\n",
              "       [ 6,  8, 10],\n",
              "       [11, 13, 15],\n",
              "       [16, 18, 20],\n",
              "       [21, 23, 25]])"
            ]
          },
          "metadata": {},
          "execution_count": 62
        }
      ],
      "source": [
        "mat[:, [0, 2, 4]]"
      ]
    },
    {
      "cell_type": "code",
      "execution_count": 63,
      "metadata": {
        "id": "JtF6JSUk-HNx",
        "outputId": "d7639500-30d3-4922-d5ed-3ceeade4cc05",
        "colab": {
          "base_uri": "https://localhost:8080/"
        }
      },
      "outputs": [
        {
          "output_type": "execute_result",
          "data": {
            "text/plain": [
              "array([[ 1,  3,  5],\n",
              "       [11, 13, 15],\n",
              "       [21, 23, 25]])"
            ]
          },
          "metadata": {},
          "execution_count": 63
        }
      ],
      "source": [
        "mat[0:5:2, 0:5:2]"
      ]
    },
    {
      "cell_type": "code",
      "execution_count": 65,
      "metadata": {
        "id": "GQisX9Cs-HNy",
        "outputId": "4311194c-1684-4584-b723-e92edcc4e2ec",
        "colab": {
          "base_uri": "https://localhost:8080/"
        }
      },
      "outputs": [
        {
          "output_type": "execute_result",
          "data": {
            "text/plain": [
              "array([[ 1, 11, 21],\n",
              "       [ 3, 13, 23],\n",
              "       [ 5, 15, 25]])"
            ]
          },
          "metadata": {},
          "execution_count": 65
        }
      ],
      "source": [
        "mat[0:5:2, 0:5:2].T"
      ]
    },
    {
      "cell_type": "markdown",
      "metadata": {
        "id": "es9EWAHq-HNy"
      },
      "source": [
        "13. sum up all elements of the matrix with two ways: 1- an universal function 'sum', 2- via programming"
      ]
    },
    {
      "cell_type": "code",
      "execution_count": 68,
      "metadata": {
        "id": "isoBoObu-HNz",
        "outputId": "6dfcb95a-cc9f-4252-b645-936c194f1841",
        "colab": {
          "base_uri": "https://localhost:8080/"
        }
      },
      "outputs": [
        {
          "output_type": "stream",
          "name": "stdout",
          "text": [
            "325\n"
          ]
        }
      ],
      "source": [
        "sumation = np.sum(mat)\n",
        "print(sumation)"
      ]
    },
    {
      "cell_type": "code",
      "execution_count": 69,
      "metadata": {
        "id": "Tl3KHvB3-HN0",
        "outputId": "851173d8-5cc1-4675-bdfb-41374f0f7f88",
        "colab": {
          "base_uri": "https://localhost:8080/"
        }
      },
      "outputs": [
        {
          "output_type": "stream",
          "name": "stdout",
          "text": [
            "325\n"
          ]
        }
      ],
      "source": [
        "sumation = 0\n",
        "for row in mat:\n",
        "    for element in row:\n",
        "        sumation += element\n",
        "\n",
        "print(sumation)"
      ]
    },
    {
      "cell_type": "markdown",
      "metadata": {
        "id": "KAUkdlNP-HN1"
      },
      "source": [
        "14. find average of numbers inside the mat matrix using universal 'mean' function and also standard deviation using universal 'std' function"
      ]
    },
    {
      "cell_type": "code",
      "execution_count": 70,
      "metadata": {
        "id": "A4Ialxnq-HN2",
        "outputId": "9273ad4e-a778-421a-e903-ef0d1f8351e8",
        "colab": {
          "base_uri": "https://localhost:8080/"
        }
      },
      "outputs": [
        {
          "output_type": "stream",
          "name": "stdout",
          "text": [
            "13.0\n"
          ]
        }
      ],
      "source": [
        "mean = np.mean(mat)\n",
        "print(mean)"
      ]
    },
    {
      "cell_type": "code",
      "execution_count": 71,
      "metadata": {
        "id": "KLC1P9ys-HN3",
        "outputId": "6f4a0d07-e5d2-4e52-ca4c-bbdb8e4d6040",
        "colab": {
          "base_uri": "https://localhost:8080/"
        }
      },
      "outputs": [
        {
          "output_type": "stream",
          "name": "stdout",
          "text": [
            "7.211102550927978\n"
          ]
        }
      ],
      "source": [
        "standard_dev = np.std(mat)\n",
        "print(standard_dev)"
      ]
    },
    {
      "cell_type": "markdown",
      "metadata": {
        "id": "rYjfot2k-HN4"
      },
      "source": [
        "15. via google, search about 'axis' in numpy and find the defualt value for 'axis' in numpy. Next find the sumup rows and sumup columns using 'axis'"
      ]
    },
    {
      "cell_type": "markdown",
      "metadata": {
        "id": "RfQh4Xh4-HN6"
      },
      "source": [
        "sum of rows:"
      ]
    },
    {
      "cell_type": "code",
      "execution_count": null,
      "metadata": {
        "id": "2rUAY4H5-HN6",
        "outputId": "5c219a7b-73e0-4777-c7f9-a42328ad8f01"
      },
      "outputs": [
        {
          "data": {
            "text/plain": [
              "array([[ 1,  2,  3,  4,  5],\n",
              "       [ 6,  7,  8,  9, 10],\n",
              "       [11, 12, 13, 14, 15],\n",
              "       [16, 17, 18, 19, 20],\n",
              "       [21, 22, 23, 24, 25]])"
            ]
          },
          "execution_count": 29,
          "metadata": {},
          "output_type": "execute_result"
        }
      ],
      "source": [
        "mat"
      ]
    },
    {
      "cell_type": "code",
      "execution_count": 77,
      "metadata": {
        "scrolled": true,
        "id": "y65aMGN_-HN7",
        "outputId": "395214b8-b41d-406f-b9ba-7d78cfee940e",
        "colab": {
          "base_uri": "https://localhost:8080/"
        }
      },
      "outputs": [
        {
          "output_type": "execute_result",
          "data": {
            "text/plain": [
              "array([[ 15],\n",
              "       [ 40],\n",
              "       [ 65],\n",
              "       [ 90],\n",
              "       [115]])"
            ]
          },
          "metadata": {},
          "execution_count": 77
        }
      ],
      "source": [
        "row_sums = np.sum(mat, axis=1).reshape(5,1)\n",
        "row_sums"
      ]
    },
    {
      "cell_type": "markdown",
      "metadata": {
        "id": "Tu0wBk0V-HN8"
      },
      "source": [
        "16. sum of rows with function"
      ]
    },
    {
      "cell_type": "code",
      "execution_count": 79,
      "metadata": {
        "id": "bZemOO2n-HN9",
        "outputId": "d8e8200b-2fea-444f-af71-574f79882940",
        "colab": {
          "base_uri": "https://localhost:8080/"
        }
      },
      "outputs": [
        {
          "output_type": "execute_result",
          "data": {
            "text/plain": [
              "array([ 15,  40,  65,  90, 115])"
            ]
          },
          "metadata": {},
          "execution_count": 79
        }
      ],
      "source": [
        "sum_of_row = np.sum(mat, axis=1)\n",
        "sum_of_row"
      ]
    },
    {
      "cell_type": "markdown",
      "metadata": {
        "id": "NZ1Va8O9-HN-"
      },
      "source": [
        "17. sum of columns"
      ]
    },
    {
      "cell_type": "code",
      "execution_count": 80,
      "metadata": {
        "id": "1SneDQka-HN-",
        "outputId": "aa42d837-ad6c-4c89-8fc4-f0c09a58951e",
        "colab": {
          "base_uri": "https://localhost:8080/"
        }
      },
      "outputs": [
        {
          "output_type": "execute_result",
          "data": {
            "text/plain": [
              "array([55, 60, 65, 70, 75])"
            ]
          },
          "metadata": {},
          "execution_count": 80
        }
      ],
      "source": [
        "sum_of_columns = np.sum(mat,axis=0)\n",
        "sum_of_columns"
      ]
    },
    {
      "cell_type": "markdown",
      "metadata": {
        "id": "uCilr_Yp-HN_"
      },
      "source": [
        "18. now you have searched about 'axis' concept in internet, using 'concatenate' and 'axis' concatenate following two matricies in both horizental and vertical axes"
      ]
    },
    {
      "cell_type": "code",
      "execution_count": 82,
      "metadata": {
        "id": "BN9qpEd4-HOA",
        "outputId": "b241e404-4206-4007-b1d1-d88fe13fc802",
        "colab": {
          "base_uri": "https://localhost:8080/"
        }
      },
      "outputs": [
        {
          "output_type": "execute_result",
          "data": {
            "text/plain": [
              "array([[1, 2, 3],\n",
              "       [4, 5, 6],\n",
              "       [7, 8, 9]])"
            ]
          },
          "metadata": {},
          "execution_count": 82
        }
      ],
      "source": [
        "\n",
        "a = np.array([[1,2,3],[4,5,6],[7,8,9]])\n",
        "a"
      ]
    },
    {
      "cell_type": "code",
      "execution_count": 83,
      "metadata": {
        "id": "FnNDFxwA-HOB",
        "outputId": "63ce3861-34ca-4b6a-ba7a-a558fa67b610",
        "colab": {
          "base_uri": "https://localhost:8080/"
        }
      },
      "outputs": [
        {
          "output_type": "execute_result",
          "data": {
            "text/plain": [
              "array([[1, 4, 7],\n",
              "       [2, 5, 8],\n",
              "       [3, 6, 9]])"
            ]
          },
          "metadata": {},
          "execution_count": 83
        }
      ],
      "source": [
        "\n",
        "b = np.array([[1,4,7],[2,5,8],[3,6,9]])\n",
        "b"
      ]
    },
    {
      "cell_type": "code",
      "execution_count": 85,
      "metadata": {
        "id": "yJyNdBb1-HOC",
        "outputId": "5f79a2ad-b10e-4f2d-8841-134674d6df4b",
        "colab": {
          "base_uri": "https://localhost:8080/"
        }
      },
      "outputs": [
        {
          "output_type": "execute_result",
          "data": {
            "text/plain": [
              "array([[1, 2, 3, 1, 4, 7],\n",
              "       [4, 5, 6, 2, 5, 8],\n",
              "       [7, 8, 9, 3, 6, 9]])"
            ]
          },
          "metadata": {},
          "execution_count": 85
        }
      ],
      "source": [
        "horizontal = np.concatenate((a, b), axis=1)\n",
        "horizontal"
      ]
    },
    {
      "cell_type": "code",
      "execution_count": 86,
      "metadata": {
        "id": "pRCJn6ms-HOD",
        "outputId": "70e8b813-fd2c-4c84-cf2a-8a068e59e553",
        "colab": {
          "base_uri": "https://localhost:8080/"
        }
      },
      "outputs": [
        {
          "output_type": "execute_result",
          "data": {
            "text/plain": [
              "array([[1, 2, 3],\n",
              "       [4, 5, 6],\n",
              "       [7, 8, 9],\n",
              "       [1, 4, 7],\n",
              "       [2, 5, 8],\n",
              "       [3, 6, 9]])"
            ]
          },
          "metadata": {},
          "execution_count": 86
        }
      ],
      "source": [
        "vertical = np.concatenate((a, b), axis=0)\n",
        "vertical"
      ]
    },
    {
      "cell_type": "markdown",
      "metadata": {
        "id": "A8le9kUA-HOE"
      },
      "source": [
        "## Good Luck"
      ]
    },
    {
      "cell_type": "markdown",
      "metadata": {
        "id": "oS-UZyKV-HOF"
      },
      "source": [
        "Abdulhady Abas"
      ]
    }
  ],
  "metadata": {
    "kernelspec": {
      "display_name": "Python 3",
      "language": "python",
      "name": "python3"
    },
    "language_info": {
      "codemirror_mode": {
        "name": "ipython",
        "version": 3
      },
      "file_extension": ".py",
      "mimetype": "text/x-python",
      "name": "python",
      "nbconvert_exporter": "python",
      "pygments_lexer": "ipython3",
      "version": "3.8.3"
    },
    "colab": {
      "provenance": [],
      "include_colab_link": true
    }
  },
  "nbformat": 4,
  "nbformat_minor": 0
}