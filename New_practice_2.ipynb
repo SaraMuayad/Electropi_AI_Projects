{
  "cells": [
    {
      "cell_type": "markdown",
      "metadata": {
        "id": "view-in-github",
        "colab_type": "text"
      },
      "source": [
        "<a href=\"https://colab.research.google.com/github/SaraMuayad/Electropi_AI_Projects/blob/main/New_practice_2.ipynb\" target=\"_parent\"><img src=\"https://colab.research.google.com/assets/colab-badge.svg\" alt=\"Open In Colab\"/></a>"
      ]
    },
    {
      "cell_type": "markdown",
      "metadata": {
        "id": "e44-wQPlycFD"
      },
      "source": [
        "### Answer the following questions"
      ]
    },
    {
      "cell_type": "markdown",
      "metadata": {
        "id": "hES2cgVlycFN"
      },
      "source": [
        "1. Seven power four"
      ]
    },
    {
      "cell_type": "code",
      "execution_count": 1,
      "metadata": {
        "id": "Dech2rfnycFP",
        "outputId": "d68faf8a-1036-4c93-bdd7-427238940c46",
        "colab": {
          "base_uri": "https://localhost:8080/"
        }
      },
      "outputs": [
        {
          "output_type": "execute_result",
          "data": {
            "text/plain": [
              "2401"
            ]
          },
          "metadata": {},
          "execution_count": 1
        }
      ],
      "source": [
        "7**4"
      ]
    },
    {
      "cell_type": "markdown",
      "metadata": {
        "id": "pnzPX7_9ycFU"
      },
      "source": [
        "2. first define the following string and then split the words of string into a list\n",
        "\n",
        "  \"Hello to students of Group in ML\""
      ]
    },
    {
      "cell_type": "code",
      "execution_count": 4,
      "metadata": {
        "id": "S0RGnS-6ycFW",
        "colab": {
          "base_uri": "https://localhost:8080/"
        },
        "outputId": "1c8628f1-48fe-4c3a-d506-27307a9724ed"
      },
      "outputs": [
        {
          "output_type": "stream",
          "name": "stdout",
          "text": [
            "['Hello', 'to', 'students', 'of', 'Group', 'in', 'ML']\n"
          ]
        }
      ],
      "source": [
        "mylist = \"Hello to students of Group in ML\"\n",
        "word_list = mylist.split()\n",
        "print(word_list)"
      ]
    },
    {
      "cell_type": "code",
      "execution_count": 5,
      "metadata": {
        "id": "9PyqxUVwycFX",
        "outputId": "f23d1457-9643-46fc-f39b-8c98f27f577d",
        "colab": {
          "base_uri": "https://localhost:8080/"
        }
      },
      "outputs": [
        {
          "output_type": "stream",
          "name": "stdout",
          "text": [
            "['Hello', 'to', 'students', 'of', 'Soran']\n"
          ]
        }
      ],
      "source": [
        "mylist = \"Hello to students of Soran\"\n",
        "word_list = mylist.split()\n",
        "print(word_list)"
      ]
    },
    {
      "cell_type": "markdown",
      "metadata": {
        "id": "1FFiPc_fycFY"
      },
      "source": [
        "3. first define the following two variables.\n",
        "\n",
        "planet = \"Earth\"\n",
        "\n",
        "diameter = 12742\n"
      ]
    },
    {
      "cell_type": "markdown",
      "metadata": {
        "id": "jlLoONYwycFb"
      },
      "source": [
        "Then using two different ways, print the following sentence: (1) normal and (2) using format\n",
        "\n",
        "The diameter of Earth is 12742 kilometers."
      ]
    },
    {
      "cell_type": "code",
      "execution_count": 6,
      "metadata": {
        "id": "seQCYqn4ycFc"
      },
      "outputs": [],
      "source": [
        "planet = \"Earth\"\n",
        "\n",
        "diameter = 12742"
      ]
    },
    {
      "cell_type": "code",
      "execution_count": 8,
      "metadata": {
        "id": "LxIPpxQwycFd",
        "colab": {
          "base_uri": "https://localhost:8080/"
        },
        "outputId": "28e97464-b619-4c3b-edf1-b8d98f867298"
      },
      "outputs": [
        {
          "output_type": "stream",
          "name": "stdout",
          "text": [
            "The diameter of  Earth is 12742  kilometers\n"
          ]
        }
      ],
      "source": [
        "print(f\"The diameter of  {planet} is {diameter}  kilometers\")"
      ]
    },
    {
      "cell_type": "code",
      "execution_count": 9,
      "metadata": {
        "id": "Ew82skgZycFe",
        "outputId": "998a5929-0da1-4ebb-b733-8888f1ec0642",
        "colab": {
          "base_uri": "https://localhost:8080/"
        }
      },
      "outputs": [
        {
          "output_type": "stream",
          "name": "stdout",
          "text": [
            "The diameter of  Earth is 12742  kilometers\n"
          ]
        }
      ],
      "source": [
        "print(f\"The diameter of  {planet} is {diameter}  kilometers\")"
      ]
    },
    {
      "cell_type": "code",
      "execution_count": 10,
      "metadata": {
        "id": "thgKFI3MycFe",
        "outputId": "36194987-5aca-458d-a0b5-abec9a13eb9f",
        "colab": {
          "base_uri": "https://localhost:8080/"
        }
      },
      "outputs": [
        {
          "output_type": "stream",
          "name": "stdout",
          "text": [
            "The diameter of  Earth is 12742  kilometers\n"
          ]
        }
      ],
      "source": [
        "print(f\"The diameter of  {planet} is {diameter}  kilometers\")"
      ]
    },
    {
      "cell_type": "markdown",
      "metadata": {
        "id": "F266sTfFycFf"
      },
      "source": [
        "4. Using indexing in the folloiwng nested list, reach keyword 'Kurdistan'"
      ]
    },
    {
      "cell_type": "code",
      "execution_count": 12,
      "metadata": {
        "id": "OTrUICaIycFi"
      },
      "outputs": [],
      "source": [
        "lst = [1,2,[3,4],[5,[100,200,['Kurdistan']],23,11],1,7]"
      ]
    },
    {
      "cell_type": "code",
      "execution_count": 15,
      "metadata": {
        "id": "CUIKeXXuycFk",
        "outputId": "30663301-5375-48e3-c722-4fa90278445b",
        "colab": {
          "base_uri": "https://localhost:8080/"
        }
      },
      "outputs": [
        {
          "output_type": "execute_result",
          "data": {
            "text/plain": [
              "['Kurdistan']"
            ]
          },
          "metadata": {},
          "execution_count": 15
        }
      ],
      "source": [
        "lst[3][1][2]"
      ]
    },
    {
      "cell_type": "markdown",
      "metadata": {
        "id": "Lzjl7-FXycFk"
      },
      "source": [
        "5. Using indexing in the following nested dictionary reach keyword 'Hewler'"
      ]
    },
    {
      "cell_type": "code",
      "execution_count": 17,
      "metadata": {
        "id": "sjFlw060ycFl"
      },
      "outputs": [],
      "source": [
        "d = {'k1':[1,2,3,{'tricky':['oh','man','inception',{'target':[1,2,3,'Hewler']}]}]}"
      ]
    },
    {
      "cell_type": "code",
      "execution_count": 18,
      "metadata": {
        "id": "mybRrfY9ycFm",
        "outputId": "dc89b240-013e-4f01-b5af-2531f4f2330d",
        "colab": {
          "base_uri": "https://localhost:8080/",
          "height": 35
        }
      },
      "outputs": [
        {
          "output_type": "execute_result",
          "data": {
            "text/plain": [
              "'Hewler'"
            ],
            "application/vnd.google.colaboratory.intrinsic+json": {
              "type": "string"
            }
          },
          "metadata": {},
          "execution_count": 18
        }
      ],
      "source": [
        "d['k1'][3]['tricky'][3]['target'][3]"
      ]
    },
    {
      "cell_type": "markdown",
      "metadata": {
        "id": "8gYfIfGOycFn"
      },
      "source": [
        "6. Declare the differences between tuple, list and dictionary using an example"
      ]
    },
    {
      "cell_type": "markdown",
      "source": [
        "List/ can change, add, or remove elements after the list has been created"
      ],
      "metadata": {
        "id": "elkrJFZSj122"
      }
    },
    {
      "cell_type": "code",
      "source": [
        "my_list_name = ['sara', 'sana', 'dana']\n",
        "my_list_name.append('shayma')\n",
        "print(my_list_name)"
      ],
      "metadata": {
        "colab": {
          "base_uri": "https://localhost:8080/"
        },
        "id": "4EqnYv3JkVdb",
        "outputId": "9c0b6ca2-b26c-40b5-a92b-73bc705d6414"
      },
      "execution_count": 19,
      "outputs": [
        {
          "output_type": "stream",
          "name": "stdout",
          "text": [
            "['sara', 'sana', 'dana', 'shayma']\n"
          ]
        }
      ]
    },
    {
      "cell_type": "markdown",
      "source": [
        "tuple/ a tuple is created, you cannot change its elements, add new ones, or remove existing ones"
      ],
      "metadata": {
        "id": "MFOEC3BVk0rd"
      }
    },
    {
      "cell_type": "code",
      "source": [
        "my_list_name = ('sara', 'sana', 'dana')\n",
        "print(my_list_name)"
      ],
      "metadata": {
        "colab": {
          "base_uri": "https://localhost:8080/"
        },
        "id": "IwhaiG8llB0B",
        "outputId": "ca311f19-dc27-4744-b7d6-5d5bd69074a6"
      },
      "execution_count": 20,
      "outputs": [
        {
          "output_type": "stream",
          "name": "stdout",
          "text": [
            "('sara', 'sana', 'dana')\n"
          ]
        }
      ]
    },
    {
      "cell_type": "markdown",
      "source": [
        "dictionary/collection of items stored as key-value"
      ],
      "metadata": {
        "id": "J4mhRcApl-ph"
      }
    },
    {
      "cell_type": "code",
      "source": [
        "my_info= {'name': 'sara', 'age': 27,'job_position':'Mobile App Developer'}\n",
        "my_info['degree'] = \"Software Engineer\"\n",
        "print(my_info)"
      ],
      "metadata": {
        "colab": {
          "base_uri": "https://localhost:8080/"
        },
        "id": "N-lKnpUFldrK",
        "outputId": "6e35c2ce-720d-4dc1-8a78-c2e3de805ba7"
      },
      "execution_count": 22,
      "outputs": [
        {
          "output_type": "stream",
          "name": "stdout",
          "text": [
            "{'name': 'sara', 'age': 27, 'job_position': 'Mobile App Developer', 'degree': 'Software Engineer'}\n"
          ]
        }
      ]
    },
    {
      "cell_type": "markdown",
      "metadata": {
        "id": "yhQqwngbycFo"
      },
      "source": [
        "7. write a function to get an email address as input argument and then return the company owner of the email\n",
        "\n",
        "for example get \"abdulhadyabas2@yahoo.com\" and return 'yahoo'"
      ]
    },
    {
      "cell_type": "markdown",
      "source": [],
      "metadata": {
        "id": "3YccRJOCkz4S"
      }
    },
    {
      "cell_type": "code",
      "execution_count": 25,
      "metadata": {
        "id": "x4tCIgHZycFo"
      },
      "outputs": [],
      "source": [
        "def domainGet(email):\n",
        "    username,domain = email.split('@')\n",
        "    company_owner = domain.split('.')[0]\n",
        "    return company_owner"
      ]
    },
    {
      "cell_type": "code",
      "execution_count": 28,
      "metadata": {
        "id": "MJPvRNhyycFp",
        "outputId": "ee1ba666-f781-4dd3-e266-5cf7dda63967",
        "colab": {
          "base_uri": "https://localhost:8080/",
          "height": 35
        }
      },
      "outputs": [
        {
          "output_type": "execute_result",
          "data": {
            "text/plain": [
              "'yahoo'"
            ],
            "application/vnd.google.colaboratory.intrinsic+json": {
              "type": "string"
            }
          },
          "metadata": {},
          "execution_count": 28
        }
      ],
      "source": [
        "domainGet(\"abdulhadyabas2@yahoo.com\")"
      ]
    },
    {
      "cell_type": "code",
      "source": [
        "domainGet(\"saramuayada@gmail.com\")"
      ],
      "metadata": {
        "colab": {
          "base_uri": "https://localhost:8080/",
          "height": 35
        },
        "id": "--4joD0soaMq",
        "outputId": "f721462c-827e-4725-9e6e-cb42d605d87e"
      },
      "execution_count": 29,
      "outputs": [
        {
          "output_type": "execute_result",
          "data": {
            "text/plain": [
              "'gmail'"
            ],
            "application/vnd.google.colaboratory.intrinsic+json": {
              "type": "string"
            }
          },
          "metadata": {},
          "execution_count": 29
        }
      ]
    },
    {
      "cell_type": "markdown",
      "metadata": {
        "id": "M7xnBhhBycFr"
      },
      "source": [
        "8. write a function that get a string as input and return True if the string contain dog\n",
        "\n",
        "note that captical and small letters are not important. Dog, dog and DOG are the same"
      ]
    },
    {
      "cell_type": "code",
      "execution_count": 30,
      "metadata": {
        "id": "6cAB3OdCycFr"
      },
      "outputs": [],
      "source": [
        "def findDog(st):\n",
        " if \"dog\" in st:\n",
        "  return True\n",
        " else:\n",
        "  return False"
      ]
    },
    {
      "cell_type": "code",
      "execution_count": 31,
      "metadata": {
        "id": "sFh39-_MycFr",
        "outputId": "31e595b9-b223-4289-bf61-e03b0398185b",
        "colab": {
          "base_uri": "https://localhost:8080/"
        }
      },
      "outputs": [
        {
          "output_type": "execute_result",
          "data": {
            "text/plain": [
              "True"
            ]
          },
          "metadata": {},
          "execution_count": 31
        }
      ],
      "source": [
        "findDog('Is there a dog here?')"
      ]
    },
    {
      "cell_type": "code",
      "execution_count": 32,
      "metadata": {
        "id": "3ZxRqV9CycFv",
        "outputId": "0f2dd274-d3fb-4412-dafc-adb0368dab63",
        "colab": {
          "base_uri": "https://localhost:8080/"
        }
      },
      "outputs": [
        {
          "output_type": "execute_result",
          "data": {
            "text/plain": [
              "False"
            ]
          },
          "metadata": {},
          "execution_count": 32
        }
      ],
      "source": [
        "findDog('Is there a cat here?')"
      ]
    },
    {
      "cell_type": "markdown",
      "metadata": {
        "id": "t1p1Ic9iycFw"
      },
      "source": [
        "9. write a function that get a sentence and count number of dogs in the sentence.\n",
        "\n",
        "again capital and small letter is not important. DOG, Dog and dog are the same"
      ]
    },
    {
      "cell_type": "code",
      "execution_count": 61,
      "metadata": {
        "id": "rUsA2LiSycFw"
      },
      "outputs": [],
      "source": [
        "def countDog(st):\n",
        "  sentence_lower = st.lower()\n",
        "\n",
        "  return sentence_lower.count(\"dog\")"
      ]
    },
    {
      "cell_type": "code",
      "execution_count": 62,
      "metadata": {
        "id": "nYpMFdwXycFw",
        "outputId": "f046e730-ecd3-4050-e401-ec89fe601721",
        "colab": {
          "base_uri": "https://localhost:8080/"
        }
      },
      "outputs": [
        {
          "output_type": "execute_result",
          "data": {
            "text/plain": [
              "2"
            ]
          },
          "metadata": {},
          "execution_count": 62
        }
      ],
      "source": [
        "countDog('This dog runs faster than the other DOG dude!')"
      ]
    },
    {
      "cell_type": "markdown",
      "metadata": {
        "id": "TZsyMz2xycFx"
      },
      "source": [
        "10. using Lamda function access the words of a list and just keeps those words that start with 's'"
      ]
    },
    {
      "cell_type": "code",
      "execution_count": 33,
      "metadata": {
        "id": "-MJEUyGwycFx"
      },
      "outputs": [],
      "source": [
        "seq = ['soup','dog','salad','sat','great']"
      ]
    },
    {
      "cell_type": "code",
      "execution_count": 34,
      "metadata": {
        "id": "77aJFlM6ycFy",
        "outputId": "4a22cbe2-aae1-45a5-add6-7768cb6f7c3e",
        "colab": {
          "base_uri": "https://localhost:8080/"
        }
      },
      "outputs": [
        {
          "output_type": "execute_result",
          "data": {
            "text/plain": [
              "['soup', 'salad', 'sat']"
            ]
          },
          "metadata": {},
          "execution_count": 34
        }
      ],
      "source": [
        "list(filter(lambda x : x[0]=='s' ,seq))"
      ]
    },
    {
      "cell_type": "markdown",
      "metadata": {
        "id": "oxnY3wNyycFy"
      },
      "source": [
        "### Good Luck"
      ]
    },
    {
      "cell_type": "markdown",
      "metadata": {
        "id": "V_ZXaYiBycFz"
      },
      "source": [
        "Abdulhady Abas"
      ]
    }
  ],
  "metadata": {
    "colab": {
      "provenance": [],
      "include_colab_link": true
    },
    "kernelspec": {
      "display_name": "Python 3",
      "language": "python",
      "name": "python3"
    },
    "language_info": {
      "codemirror_mode": {
        "name": "ipython",
        "version": 3
      },
      "file_extension": ".py",
      "mimetype": "text/x-python",
      "name": "python",
      "nbconvert_exporter": "python",
      "pygments_lexer": "ipython3",
      "version": "3.8.3"
    }
  },
  "nbformat": 4,
  "nbformat_minor": 0
}