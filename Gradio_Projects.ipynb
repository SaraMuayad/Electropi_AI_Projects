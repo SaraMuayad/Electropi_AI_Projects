{
  "nbformat": 4,
  "nbformat_minor": 0,
  "metadata": {
    "colab": {
      "provenance": [],
      "authorship_tag": "ABX9TyP/IcvHCYyWmyyS9aGr7NNs",
      "include_colab_link": true
    },
    "kernelspec": {
      "name": "python3",
      "display_name": "Python 3"
    },
    "language_info": {
      "name": "python"
    }
  },
  "cells": [
    {
      "cell_type": "markdown",
      "metadata": {
        "id": "view-in-github",
        "colab_type": "text"
      },
      "source": [
        "<a href=\"https://colab.research.google.com/github/SaraMuayad/Electropi_AI_Projects/blob/main/Gradio_Projects.ipynb\" target=\"_parent\"><img src=\"https://colab.research.google.com/assets/colab-badge.svg\" alt=\"Open In Colab\"/></a>"
      ]
    },
    {
      "cell_type": "markdown",
      "source": [
        "### In this section we create a many project in Gradio we hope all of the projects useful\n",
        "\n",
        "\n"
      ],
      "metadata": {
        "id": "uhNXTScjqbCE"
      }
    },
    {
      "cell_type": "markdown",
      "source": [
        "# 1-Project one adding two numbers"
      ],
      "metadata": {
        "id": "INeM7-5Sqcpl"
      }
    },
    {
      "cell_type": "markdown",
      "source": [
        "##Import the gradio library"
      ],
      "metadata": {
        "id": "3CmKzVlHpGPc"
      }
    },
    {
      "cell_type": "code",
      "execution_count": 1,
      "metadata": {
        "id": "h73i29WMnyMN"
      },
      "outputs": [],
      "source": [
        "import gradio as gr"
      ]
    },
    {
      "cell_type": "markdown",
      "source": [
        "##Define the adding two number method"
      ],
      "metadata": {
        "id": "S7xZ8ZdUouwu"
      }
    },
    {
      "cell_type": "code",
      "source": [
        "def add_numbers(a,b):\n",
        "  return a+b"
      ],
      "metadata": {
        "id": "Yg3hHXTiod1M"
      },
      "execution_count": 2,
      "outputs": []
    },
    {
      "cell_type": "markdown",
      "source": [
        "##Define the interface for our projcect"
      ],
      "metadata": {
        "id": "BLAtaeYzpVPV"
      }
    },
    {
      "cell_type": "code",
      "source": [
        "interface = gr.Interface(fn=add_numbers,inputs=[gr.Number(label=\"First\"),gr.Number(label=\"Second\")],outputs=gr.Number(label=\"Sum\"))"
      ],
      "metadata": {
        "id": "cvXrSG2GotN6"
      },
      "execution_count": 3,
      "outputs": []
    },
    {
      "cell_type": "markdown",
      "source": [
        "## Lunging the interface"
      ],
      "metadata": {
        "id": "qCPO5BYUp9r3"
      }
    },
    {
      "cell_type": "code",
      "source": [
        "interface.launch()"
      ],
      "metadata": {
        "colab": {
          "base_uri": "https://localhost:8080/",
          "height": 648
        },
        "id": "ZbRcqU54qHEh",
        "outputId": "1db6c29c-f2bf-4865-a231-54ca968af7eb"
      },
      "execution_count": 4,
      "outputs": [
        {
          "output_type": "stream",
          "name": "stdout",
          "text": [
            "It looks like you are running Gradio on a hosted Jupyter notebook, which requires `share=True`. Automatically setting `share=True` (you can turn this off by setting `share=False` in `launch()` explicitly).\n",
            "\n",
            "Colab notebook detected. To show errors in colab notebook, set debug=True in launch()\n",
            "* Running on public URL: https://0ac2f9fb8b5eaf1496.gradio.live\n",
            "\n",
            "This share link expires in 1 week. For free permanent hosting and GPU upgrades, run `gradio deploy` from the terminal in the working directory to deploy to Hugging Face Spaces (https://huggingface.co/spaces)\n"
          ]
        },
        {
          "output_type": "display_data",
          "data": {
            "text/plain": [
              "<IPython.core.display.HTML object>"
            ],
            "text/html": [
              "<div><iframe src=\"https://0ac2f9fb8b5eaf1496.gradio.live\" width=\"100%\" height=\"500\" allow=\"autoplay; camera; microphone; clipboard-read; clipboard-write;\" frameborder=\"0\" allowfullscreen></iframe></div>"
            ]
          },
          "metadata": {}
        },
        {
          "output_type": "execute_result",
          "data": {
            "text/plain": []
          },
          "metadata": {},
          "execution_count": 4
        }
      ]
    },
    {
      "cell_type": "markdown",
      "source": [
        "#2 - reverse the text"
      ],
      "metadata": {
        "id": "OBfdCqjqrNKO"
      }
    },
    {
      "cell_type": "markdown",
      "source": [
        "## Define the method for reverse the text"
      ],
      "metadata": {
        "id": "obECIyuisnY-"
      }
    },
    {
      "cell_type": "code",
      "source": [
        "def reverse_text(text):\n",
        "  return text[::-1]"
      ],
      "metadata": {
        "id": "5VZNJdKgrt0d"
      },
      "execution_count": 5,
      "outputs": []
    },
    {
      "cell_type": "markdown",
      "source": [
        "## Define the interface for project"
      ],
      "metadata": {
        "id": "AYqaVAc9suVB"
      }
    },
    {
      "cell_type": "code",
      "source": [
        "interface = gr.Interface(fn=reverse_text,inputs=gr.Textbox(label=\"Enter Text\"),outputs=gr.Textbox(label=\"Reverse Text\"))"
      ],
      "metadata": {
        "id": "SKjQLiTQsDqH"
      },
      "execution_count": 6,
      "outputs": []
    },
    {
      "cell_type": "markdown",
      "source": [
        "## Launging the interface"
      ],
      "metadata": {
        "id": "s8osFK7Xs0Q-"
      }
    },
    {
      "cell_type": "code",
      "source": [
        "interface.launch()"
      ],
      "metadata": {
        "colab": {
          "base_uri": "https://localhost:8080/",
          "height": 648
        },
        "id": "iBq1ljWssZUU",
        "outputId": "6e0fa698-befc-4194-e7d6-f93b3baf3ca1"
      },
      "execution_count": 8,
      "outputs": [
        {
          "output_type": "stream",
          "name": "stdout",
          "text": [
            "It looks like you are running Gradio on a hosted Jupyter notebook, which requires `share=True`. Automatically setting `share=True` (you can turn this off by setting `share=False` in `launch()` explicitly).\n",
            "\n",
            "Colab notebook detected. To show errors in colab notebook, set debug=True in launch()\n",
            "* Running on public URL: https://1f2ccedd5163ac8a96.gradio.live\n",
            "\n",
            "This share link expires in 1 week. For free permanent hosting and GPU upgrades, run `gradio deploy` from the terminal in the working directory to deploy to Hugging Face Spaces (https://huggingface.co/spaces)\n"
          ]
        },
        {
          "output_type": "display_data",
          "data": {
            "text/plain": [
              "<IPython.core.display.HTML object>"
            ],
            "text/html": [
              "<div><iframe src=\"https://1f2ccedd5163ac8a96.gradio.live\" width=\"100%\" height=\"500\" allow=\"autoplay; camera; microphone; clipboard-read; clipboard-write;\" frameborder=\"0\" allowfullscreen></iframe></div>"
            ]
          },
          "metadata": {}
        },
        {
          "output_type": "execute_result",
          "data": {
            "text/plain": []
          },
          "metadata": {},
          "execution_count": 8
        }
      ]
    },
    {
      "cell_type": "markdown",
      "source": [
        "# 3 - Squre number"
      ],
      "metadata": {
        "id": "uVFQJe-rs-3S"
      }
    },
    {
      "cell_type": "markdown",
      "source": [
        "## Define the Squre number method"
      ],
      "metadata": {
        "id": "YScGUlkLuUiY"
      }
    },
    {
      "cell_type": "code",
      "source": [
        "def squre_number(number):\n",
        "  return number**2"
      ],
      "metadata": {
        "id": "bs-4j4jJuZ6l"
      },
      "execution_count": 9,
      "outputs": []
    },
    {
      "cell_type": "markdown",
      "source": [
        "## Define the interface for project"
      ],
      "metadata": {
        "id": "fQATnjxwumya"
      }
    },
    {
      "cell_type": "code",
      "source": [
        "interface = gr.Interface(fn=squre_number, inputs=gr.Slider(minimum=0,maximum=100,step=1,label=\"Select A Number\"),outputs=gr.Number(label=\"Result\"))"
      ],
      "metadata": {
        "id": "-7FtQ83_usF-"
      },
      "execution_count": 12,
      "outputs": []
    },
    {
      "cell_type": "markdown",
      "source": [
        "## Lunging the Interface"
      ],
      "metadata": {
        "id": "C-ye21MBvoeg"
      }
    },
    {
      "cell_type": "code",
      "source": [
        "interface.launch()"
      ],
      "metadata": {
        "colab": {
          "base_uri": "https://localhost:8080/",
          "height": 648
        },
        "id": "4xpiz5Wivrmc",
        "outputId": "d59a3242-3b74-4bae-e9e4-221a8353cebf"
      },
      "execution_count": 13,
      "outputs": [
        {
          "output_type": "stream",
          "name": "stdout",
          "text": [
            "It looks like you are running Gradio on a hosted Jupyter notebook, which requires `share=True`. Automatically setting `share=True` (you can turn this off by setting `share=False` in `launch()` explicitly).\n",
            "\n",
            "Colab notebook detected. To show errors in colab notebook, set debug=True in launch()\n",
            "* Running on public URL: https://f9a32b68bb3805a590.gradio.live\n",
            "\n",
            "This share link expires in 1 week. For free permanent hosting and GPU upgrades, run `gradio deploy` from the terminal in the working directory to deploy to Hugging Face Spaces (https://huggingface.co/spaces)\n"
          ]
        },
        {
          "output_type": "display_data",
          "data": {
            "text/plain": [
              "<IPython.core.display.HTML object>"
            ],
            "text/html": [
              "<div><iframe src=\"https://f9a32b68bb3805a590.gradio.live\" width=\"100%\" height=\"500\" allow=\"autoplay; camera; microphone; clipboard-read; clipboard-write;\" frameborder=\"0\" allowfullscreen></iframe></div>"
            ]
          },
          "metadata": {}
        },
        {
          "output_type": "execute_result",
          "data": {
            "text/plain": []
          },
          "metadata": {},
          "execution_count": 13
        }
      ]
    },
    {
      "cell_type": "markdown",
      "source": [
        "# 4 - Calculator using Dropdown"
      ],
      "metadata": {
        "id": "J_tgoGBmwEj6"
      }
    },
    {
      "cell_type": "markdown",
      "source": [
        "## Define the method"
      ],
      "metadata": {
        "id": "Vz8GhLrowqLp"
      }
    },
    {
      "cell_type": "code",
      "source": [
        "def add_numbers(number_one,number_two,operation):\n",
        "  if operation == \"Addition\":\n",
        "    return number_one + number_two\n",
        "  elif operation == \"Subtraction\":\n",
        "    return number_one - number_two\n",
        "  elif operation == \"Multiplication\":\n",
        "   return number_one * number_two\n",
        "  elif operation == \"Divition\":\n",
        "   return number_one / number_two\n",
        "  else:\n",
        "    return \"Invalid Operation\""
      ],
      "metadata": {
        "id": "qdX0jZYAwkoA"
      },
      "execution_count": 20,
      "outputs": []
    },
    {
      "cell_type": "markdown",
      "source": [
        "## Define the Interface"
      ],
      "metadata": {
        "id": "qfUV18aBwyee"
      }
    },
    {
      "cell_type": "code",
      "source": [
        "interface = gr.Interface(fn=add_numbers,\n",
        "                         inputs=[gr.Number(label=\"First\"),gr.Number(label=\"Second\"),\n",
        "                                 gr.Dropdown(choices=[\"Addition\", \"Subtraction\", \"Multiplication\",\"Divition\"],label=\"Operation\")\n",
        "                                 ],\n",
        "                         outputs=gr.Number(label=\"Result\")\n",
        "                         )"
      ],
      "metadata": {
        "id": "3eVxijMzw2qN"
      },
      "execution_count": 21,
      "outputs": []
    },
    {
      "cell_type": "markdown",
      "source": [
        "##Launging the Interface"
      ],
      "metadata": {
        "id": "u1kWzHclyMuu"
      }
    },
    {
      "cell_type": "code",
      "source": [
        "interface.launch()"
      ],
      "metadata": {
        "colab": {
          "base_uri": "https://localhost:8080/",
          "height": 648
        },
        "id": "cDvbnwt3yPz0",
        "outputId": "4c32afef-175f-4eaa-84e7-c53c9c032ead"
      },
      "execution_count": 22,
      "outputs": [
        {
          "output_type": "stream",
          "name": "stdout",
          "text": [
            "It looks like you are running Gradio on a hosted Jupyter notebook, which requires `share=True`. Automatically setting `share=True` (you can turn this off by setting `share=False` in `launch()` explicitly).\n",
            "\n",
            "Colab notebook detected. To show errors in colab notebook, set debug=True in launch()\n",
            "* Running on public URL: https://b093236df998654145.gradio.live\n",
            "\n",
            "This share link expires in 1 week. For free permanent hosting and GPU upgrades, run `gradio deploy` from the terminal in the working directory to deploy to Hugging Face Spaces (https://huggingface.co/spaces)\n"
          ]
        },
        {
          "output_type": "display_data",
          "data": {
            "text/plain": [
              "<IPython.core.display.HTML object>"
            ],
            "text/html": [
              "<div><iframe src=\"https://b093236df998654145.gradio.live\" width=\"100%\" height=\"500\" allow=\"autoplay; camera; microphone; clipboard-read; clipboard-write;\" frameborder=\"0\" allowfullscreen></iframe></div>"
            ]
          },
          "metadata": {}
        },
        {
          "output_type": "execute_result",
          "data": {
            "text/plain": []
          },
          "metadata": {},
          "execution_count": 22
        }
      ]
    },
    {
      "cell_type": "markdown",
      "source": [
        "# 5 - Uploading text file to calculate word"
      ],
      "metadata": {
        "id": "eJqrhFRtzuoy"
      }
    },
    {
      "cell_type": "code",
      "source": [
        "def analyize_text(file):\n",
        "   text = file.name\n",
        "   with open(file.name,\"r\",encoding=\"utf-8\") as f:\n",
        "    content = f.read()\n",
        "    word_count = len(content)\n",
        "\n",
        "    return f\"The file {text} has {word_count} words\""
      ],
      "metadata": {
        "id": "vFcP7BH9zyWr"
      },
      "execution_count": 23,
      "outputs": []
    },
    {
      "cell_type": "code",
      "source": [
        "interface = gr.Interface(fn=analyize_text,inputs=gr.File(label=\"Upload File\"),outputs=gr.Textbox(label=\"\"))"
      ],
      "metadata": {
        "id": "WKVeJVD8z4rd"
      },
      "execution_count": 25,
      "outputs": []
    },
    {
      "cell_type": "code",
      "source": [
        "interface.launch()"
      ],
      "metadata": {
        "colab": {
          "base_uri": "https://localhost:8080/",
          "height": 648
        },
        "id": "uXnEgXDJ1t0v",
        "outputId": "8eefce4d-2186-409e-f17b-56c7e778bdc1"
      },
      "execution_count": 27,
      "outputs": [
        {
          "output_type": "stream",
          "name": "stdout",
          "text": [
            "It looks like you are running Gradio on a hosted Jupyter notebook, which requires `share=True`. Automatically setting `share=True` (you can turn this off by setting `share=False` in `launch()` explicitly).\n",
            "\n",
            "Colab notebook detected. To show errors in colab notebook, set debug=True in launch()\n",
            "* Running on public URL: https://7eb2a55fa193f574de.gradio.live\n",
            "\n",
            "This share link expires in 1 week. For free permanent hosting and GPU upgrades, run `gradio deploy` from the terminal in the working directory to deploy to Hugging Face Spaces (https://huggingface.co/spaces)\n"
          ]
        },
        {
          "output_type": "display_data",
          "data": {
            "text/plain": [
              "<IPython.core.display.HTML object>"
            ],
            "text/html": [
              "<div><iframe src=\"https://7eb2a55fa193f574de.gradio.live\" width=\"100%\" height=\"500\" allow=\"autoplay; camera; microphone; clipboard-read; clipboard-write;\" frameborder=\"0\" allowfullscreen></iframe></div>"
            ]
          },
          "metadata": {}
        },
        {
          "output_type": "execute_result",
          "data": {
            "text/plain": []
          },
          "metadata": {},
          "execution_count": 27
        }
      ]
    },
    {
      "cell_type": "markdown",
      "source": [
        "# 6 - Resize image file\n"
      ],
      "metadata": {
        "id": "XZB-ctAW2fjX"
      }
    },
    {
      "cell_type": "code",
      "source": [
        "def resize_image(image,width,height):\n",
        "  image.resize((width,height))\n",
        "  return image"
      ],
      "metadata": {
        "id": "olfhhpJP2xLs"
      },
      "execution_count": 28,
      "outputs": []
    },
    {
      "cell_type": "code",
      "source": [
        "interface = gr.Interface(fn=resize_image,inputs=[gr.Image(type=\"pil\",label=\"Upload an image\"),\n",
        "                                                 gr.Number(label=\"Width\"),\n",
        "                                                 gr.Number(label=\"Height\")\n",
        "                                                 ],outputs=gr.Image(type=\"pil\",label=\"Resized Image\"))"
      ],
      "metadata": {
        "id": "9zV4Bz2J2n8t"
      },
      "execution_count": 30,
      "outputs": []
    },
    {
      "cell_type": "code",
      "source": [
        "interface.launch()"
      ],
      "metadata": {
        "colab": {
          "base_uri": "https://localhost:8080/",
          "height": 648
        },
        "id": "ITHny3Bc3qfS",
        "outputId": "07eab8f9-419b-4899-a01a-609eb479f835"
      },
      "execution_count": 31,
      "outputs": [
        {
          "output_type": "stream",
          "name": "stdout",
          "text": [
            "It looks like you are running Gradio on a hosted Jupyter notebook, which requires `share=True`. Automatically setting `share=True` (you can turn this off by setting `share=False` in `launch()` explicitly).\n",
            "\n",
            "Colab notebook detected. To show errors in colab notebook, set debug=True in launch()\n",
            "* Running on public URL: https://aca5ae970d0be5ae1d.gradio.live\n",
            "\n",
            "This share link expires in 1 week. For free permanent hosting and GPU upgrades, run `gradio deploy` from the terminal in the working directory to deploy to Hugging Face Spaces (https://huggingface.co/spaces)\n"
          ]
        },
        {
          "output_type": "display_data",
          "data": {
            "text/plain": [
              "<IPython.core.display.HTML object>"
            ],
            "text/html": [
              "<div><iframe src=\"https://aca5ae970d0be5ae1d.gradio.live\" width=\"100%\" height=\"500\" allow=\"autoplay; camera; microphone; clipboard-read; clipboard-write;\" frameborder=\"0\" allowfullscreen></iframe></div>"
            ]
          },
          "metadata": {}
        },
        {
          "output_type": "execute_result",
          "data": {
            "text/plain": []
          },
          "metadata": {},
          "execution_count": 31
        }
      ]
    },
    {
      "cell_type": "markdown",
      "source": [
        "#7 - Using Radio Button"
      ],
      "metadata": {
        "id": "ZEEab8nR4ukm"
      }
    },
    {
      "cell_type": "code",
      "source": [
        "def check_answer(answer):\n",
        "  corrct_answer = \"Python\"\n",
        "  if answer == corrct_answer:\n",
        "    return \"Correct\"\n",
        "  else:\n",
        "    return \"Oops! That is incorrect.\""
      ],
      "metadata": {
        "id": "aWLWEwFI41ap"
      },
      "execution_count": 36,
      "outputs": []
    },
    {
      "cell_type": "code",
      "source": [
        "interface = gr.Interface(fn=check_answer,inputs=gr.Radio(choices=[\"JAVA\", \"C++\", \"Python\"], label=\" Which programming Language is known as the snake?\"),outputs=gr.Textbox(label=\"Your Result\"))"
      ],
      "metadata": {
        "id": "2qehP-Aj4_Pm"
      },
      "execution_count": 39,
      "outputs": []
    },
    {
      "cell_type": "code",
      "source": [
        "interface.launch()"
      ],
      "metadata": {
        "colab": {
          "base_uri": "https://localhost:8080/",
          "height": 648
        },
        "id": "MRAnGlX36BF8",
        "outputId": "e392bb1c-f269-4f41-ccdb-3994dd47d84b"
      },
      "execution_count": 40,
      "outputs": [
        {
          "output_type": "stream",
          "name": "stdout",
          "text": [
            "It looks like you are running Gradio on a hosted Jupyter notebook, which requires `share=True`. Automatically setting `share=True` (you can turn this off by setting `share=False` in `launch()` explicitly).\n",
            "\n",
            "Colab notebook detected. To show errors in colab notebook, set debug=True in launch()\n",
            "* Running on public URL: https://75f389cfb249fb3ca1.gradio.live\n",
            "\n",
            "This share link expires in 1 week. For free permanent hosting and GPU upgrades, run `gradio deploy` from the terminal in the working directory to deploy to Hugging Face Spaces (https://huggingface.co/spaces)\n"
          ]
        },
        {
          "output_type": "display_data",
          "data": {
            "text/plain": [
              "<IPython.core.display.HTML object>"
            ],
            "text/html": [
              "<div><iframe src=\"https://75f389cfb249fb3ca1.gradio.live\" width=\"100%\" height=\"500\" allow=\"autoplay; camera; microphone; clipboard-read; clipboard-write;\" frameborder=\"0\" allowfullscreen></iframe></div>"
            ]
          },
          "metadata": {}
        },
        {
          "output_type": "execute_result",
          "data": {
            "text/plain": []
          },
          "metadata": {},
          "execution_count": 40
        }
      ]
    },
    {
      "cell_type": "markdown",
      "source": [
        "#8 - checkbox project"
      ],
      "metadata": {
        "id": "bw05yG2u7Qoq"
      }
    },
    {
      "cell_type": "code",
      "source": [
        "def favorite(selected_color):\n",
        "   if selected_color:\n",
        "    return \"You selected: \" + \", \".join(selected_color)\n",
        "   else:\n",
        "    return \"No color selected\""
      ],
      "metadata": {
        "id": "YIdEL-qg7VKT"
      },
      "execution_count": 43,
      "outputs": []
    },
    {
      "cell_type": "code",
      "source": [
        "interface = gr.Interface(fn=favorite,\n",
        "                         inputs=gr.CheckboxGroup(choices=[\"green\",\"blue\",\"red\",\"yellow\",\"white\",\"black\"],label=\"select your favoite color\"),outputs=gr.Textbox(label=\"your selected color\"))"
      ],
      "metadata": {
        "id": "tlU1JgGd7Yqi"
      },
      "execution_count": 44,
      "outputs": []
    },
    {
      "cell_type": "code",
      "source": [
        "interface.launch()"
      ],
      "metadata": {
        "colab": {
          "base_uri": "https://localhost:8080/",
          "height": 648
        },
        "id": "21PTu1Zm8XQb",
        "outputId": "12f5982d-e71d-482a-d32e-15891f44177e"
      },
      "execution_count": 45,
      "outputs": [
        {
          "output_type": "stream",
          "name": "stdout",
          "text": [
            "It looks like you are running Gradio on a hosted Jupyter notebook, which requires `share=True`. Automatically setting `share=True` (you can turn this off by setting `share=False` in `launch()` explicitly).\n",
            "\n",
            "Colab notebook detected. To show errors in colab notebook, set debug=True in launch()\n",
            "* Running on public URL: https://ddc84b79d431498387.gradio.live\n",
            "\n",
            "This share link expires in 1 week. For free permanent hosting and GPU upgrades, run `gradio deploy` from the terminal in the working directory to deploy to Hugging Face Spaces (https://huggingface.co/spaces)\n"
          ]
        },
        {
          "output_type": "display_data",
          "data": {
            "text/plain": [
              "<IPython.core.display.HTML object>"
            ],
            "text/html": [
              "<div><iframe src=\"https://ddc84b79d431498387.gradio.live\" width=\"100%\" height=\"500\" allow=\"autoplay; camera; microphone; clipboard-read; clipboard-write;\" frameborder=\"0\" allowfullscreen></iframe></div>"
            ]
          },
          "metadata": {}
        },
        {
          "output_type": "execute_result",
          "data": {
            "text/plain": []
          },
          "metadata": {},
          "execution_count": 45
        }
      ]
    }
  ]
}