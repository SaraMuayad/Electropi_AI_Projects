{
  "nbformat": 4,
  "nbformat_minor": 0,
  "metadata": {
    "colab": {
      "provenance": [],
      "authorship_tag": "ABX9TyPimPgnTJu2BmHmrQFBpz1s",
      "include_colab_link": true
    },
    "kernelspec": {
      "name": "python3",
      "display_name": "Python 3"
    },
    "language_info": {
      "name": "python"
    }
  },
  "cells": [
    {
      "cell_type": "markdown",
      "metadata": {
        "id": "view-in-github",
        "colab_type": "text"
      },
      "source": [
        "<a href=\"https://colab.research.google.com/github/SaraMuayad/Electropi_AI_Projects/blob/main/basic_python_exercise.ipynb\" target=\"_parent\"><img src=\"https://colab.research.google.com/assets/colab-badge.svg\" alt=\"Open In Colab\"/></a>"
      ]
    },
    {
      "cell_type": "markdown",
      "source": [
        "##Exercise 1.1\n"
      ],
      "metadata": {
        "id": "8WgX3fIB8MDR"
      }
    },
    {
      "cell_type": "code",
      "source": [
        "12+4*2"
      ],
      "metadata": {
        "colab": {
          "base_uri": "https://localhost:8080/"
        },
        "id": "UKvwgph-8S9y",
        "outputId": "5b5444e5-81a8-408b-add3-f88a4427fdf8"
      },
      "execution_count": 1,
      "outputs": [
        {
          "output_type": "execute_result",
          "data": {
            "text/plain": [
              "20"
            ]
          },
          "metadata": {},
          "execution_count": 1
        }
      ]
    },
    {
      "cell_type": "code",
      "source": [
        "(12+4)*2"
      ],
      "metadata": {
        "colab": {
          "base_uri": "https://localhost:8080/"
        },
        "id": "Bt7Aj4_e8c0c",
        "outputId": "810f6397-9ff7-4c5e-82ff-f488d016f874"
      },
      "execution_count": 2,
      "outputs": [
        {
          "output_type": "execute_result",
          "data": {
            "text/plain": [
              "32"
            ]
          },
          "metadata": {},
          "execution_count": 2
        }
      ]
    },
    {
      "cell_type": "markdown",
      "source": [
        "##Exercise 1.2\n",
        "when dividing 50 by 7 what are the remainder and the integer quotient?"
      ],
      "metadata": {
        "id": "luwABGPo8hSD"
      }
    },
    {
      "cell_type": "code",
      "source": [
        "quot = 50 // 7\n",
        "quot = 50 % 7\n",
        "print(f\"The integer quotient is: {quot}\")\n",
        "print(f\"The remainder is: {quot}\")"
      ],
      "metadata": {
        "colab": {
          "base_uri": "https://localhost:8080/"
        },
        "id": "8y-vmB9y802f",
        "outputId": "6af8ca6c-0915-4ca9-9e8a-c674fafca2fa"
      },
      "execution_count": 3,
      "outputs": [
        {
          "output_type": "stream",
          "name": "stdout",
          "text": [
            "The integer quotient is: 1\n",
            "The remainder is: 1\n"
          ]
        }
      ]
    },
    {
      "cell_type": "markdown",
      "source": [
        "##Exercise 1.3\n"
      ],
      "metadata": {
        "id": "JsfiRIHO9S_k"
      }
    },
    {
      "cell_type": "code",
      "source": [
        "3**5"
      ],
      "metadata": {
        "colab": {
          "base_uri": "https://localhost:8080/"
        },
        "id": "kOeI8fc_9Wv5",
        "outputId": "126a37e8-6ff0-4985-abd2-36f121364584"
      },
      "execution_count": 4,
      "outputs": [
        {
          "output_type": "execute_result",
          "data": {
            "text/plain": [
              "243"
            ]
          },
          "metadata": {},
          "execution_count": 4
        }
      ]
    },
    {
      "cell_type": "markdown",
      "source": [
        "##Exercise 2.1\n",
        "given x= 3 and y = 7 swap their value what are the x and y afterwards"
      ],
      "metadata": {
        "id": "VukRPqep9aLY"
      }
    },
    {
      "cell_type": "code",
      "source": [
        "x = 3\n",
        "y = 7\n",
        "\n",
        "x,y = y,x\n",
        "print(f\"x={x}\",f\"y={y}\")"
      ],
      "metadata": {
        "colab": {
          "base_uri": "https://localhost:8080/"
        },
        "id": "13uWhHFm9d7P",
        "outputId": "e5ec59bb-dcb7-4f3e-8f05-d155b0a8ae89"
      },
      "execution_count": 6,
      "outputs": [
        {
          "output_type": "stream",
          "name": "stdout",
          "text": [
            "x=7 y=3\n"
          ]
        }
      ]
    },
    {
      "cell_type": "markdown",
      "source": [
        "##Exercise 2.2\n",
        "If p=2.5 and q=4,r=p*q, and then convert to an integer\n"
      ],
      "metadata": {
        "id": "Gq3yrPCv-qeX"
      }
    },
    {
      "cell_type": "code",
      "source": [
        "p=2.5\n",
        "q=4\n",
        "r = p*q\n",
        "convertResultToInt = int(r)\n",
        "print(f\"the result = {convertResultToInt}\")"
      ],
      "metadata": {
        "colab": {
          "base_uri": "https://localhost:8080/"
        },
        "id": "91b9LyuT_Ac5",
        "outputId": "bf305e17-d341-4121-d4b4-730dc6ba25a6"
      },
      "execution_count": 9,
      "outputs": [
        {
          "output_type": "stream",
          "name": "stdout",
          "text": [
            "the result = 10\n"
          ]
        }
      ]
    },
    {
      "cell_type": "markdown",
      "source": [
        "##Exercise 3.1"
      ],
      "metadata": {
        "id": "vk9yTpZI_gJ-"
      }
    },
    {
      "cell_type": "code",
      "source": [
        "myFullName = 'Sara Muayad Awla'\n",
        "lengthOfCharacter = len(myFullName)\n",
        "print(f\"Length of My full name {lengthOfCharacter}\")"
      ],
      "metadata": {
        "colab": {
          "base_uri": "https://localhost:8080/"
        },
        "id": "R1nLsuF6_rGe",
        "outputId": "212d869d-ce22-4822-8187-3034d0260141"
      },
      "execution_count": 48,
      "outputs": [
        {
          "output_type": "stream",
          "name": "stdout",
          "text": [
            "Length of My full name 16\n"
          ]
        }
      ]
    },
    {
      "cell_type": "markdown",
      "source": [
        "##Exercise 3.2\n"
      ],
      "metadata": {
        "id": "FAre6SAvAPpA"
      }
    },
    {
      "cell_type": "code",
      "source": [
        "favoriteHobby = \"\"\"\n",
        " Learning because give me this\n",
        " Feeling, should I keep going on my road\n",
        " \"\"\"\n",
        "\n",
        "print(favoriteHobby)"
      ],
      "metadata": {
        "colab": {
          "base_uri": "https://localhost:8080/"
        },
        "id": "kq1KUwbHAXns",
        "outputId": "ddb9f05b-9ed5-436b-fa87-70ede0aa0719"
      },
      "execution_count": 49,
      "outputs": [
        {
          "output_type": "stream",
          "name": "stdout",
          "text": [
            "\n",
            " Learning because give me this\n",
            " Feeling, should I keep going on my road\n",
            " \n"
          ]
        }
      ]
    },
    {
      "cell_type": "markdown",
      "source": [
        "## Exercise 4.1"
      ],
      "metadata": {
        "id": "YtVPdNUdBLHz"
      }
    },
    {
      "cell_type": "code",
      "source": [
        "s='DataScience'\n",
        "s[0:4]"
      ],
      "metadata": {
        "colab": {
          "base_uri": "https://localhost:8080/",
          "height": 35
        },
        "id": "YHh8j7JuBPvU",
        "outputId": "d8726e1b-92d3-4bd2-f28e-d4f4459791e4"
      },
      "execution_count": 18,
      "outputs": [
        {
          "output_type": "execute_result",
          "data": {
            "text/plain": [
              "'Data'"
            ],
            "application/vnd.google.colaboratory.intrinsic+json": {
              "type": "string"
            }
          },
          "metadata": {},
          "execution_count": 18
        }
      ]
    },
    {
      "cell_type": "markdown",
      "source": [
        "## Exercise 4.2"
      ],
      "metadata": {
        "id": "RNOi4_T_BgDT"
      }
    },
    {
      "cell_type": "code",
      "source": [
        "s[4:11]"
      ],
      "metadata": {
        "colab": {
          "base_uri": "https://localhost:8080/",
          "height": 35
        },
        "id": "olOc30bRBhVo",
        "outputId": "52a46341-1029-4f5e-8ed6-1a674639b698"
      },
      "execution_count": 17,
      "outputs": [
        {
          "output_type": "execute_result",
          "data": {
            "text/plain": [
              "'Science'"
            ],
            "application/vnd.google.colaboratory.intrinsic+json": {
              "type": "string"
            }
          },
          "metadata": {},
          "execution_count": 17
        }
      ]
    },
    {
      "cell_type": "markdown",
      "source": [
        "## Exercise 4.3"
      ],
      "metadata": {
        "id": "XX8o2_5QBzoL"
      }
    },
    {
      "cell_type": "code",
      "source": [
        "s[::-1]"
      ],
      "metadata": {
        "colab": {
          "base_uri": "https://localhost:8080/",
          "height": 35
        },
        "id": "clId6ociB1e5",
        "outputId": "503b2ed6-3cf3-4c6d-b8ae-d4123a58877c"
      },
      "execution_count": 19,
      "outputs": [
        {
          "output_type": "execute_result",
          "data": {
            "text/plain": [
              "'ecneicSataD'"
            ],
            "application/vnd.google.colaboratory.intrinsic+json": {
              "type": "string"
            }
          },
          "metadata": {},
          "execution_count": 19
        }
      ]
    },
    {
      "cell_type": "markdown",
      "source": [
        "## Exercise 5.1\n"
      ],
      "metadata": {
        "id": "e5PAR5n5B_Pr"
      }
    },
    {
      "cell_type": "code",
      "source": [
        "name = 'Alice'\n",
        "age = 29\n",
        "\n",
        "print(f\"{name} is\",f\"{age} years old\")\n",
        "print(\"{} is {} years old\".format(name,age))"
      ],
      "metadata": {
        "colab": {
          "base_uri": "https://localhost:8080/"
        },
        "id": "ZVvmFK-ZCDEB",
        "outputId": "33457ba4-8e7c-4229-d2c2-56ca854abd4e"
      },
      "execution_count": 22,
      "outputs": [
        {
          "output_type": "stream",
          "name": "stdout",
          "text": [
            "Alice is 29 years old\n",
            "Alice is 29 years old\n"
          ]
        }
      ]
    },
    {
      "cell_type": "markdown",
      "source": [
        "# Exercise 5.2"
      ],
      "metadata": {
        "id": "Ab3zQH0LCylB"
      }
    },
    {
      "cell_type": "code",
      "source": [
        "one = 1**2\n",
        "two = 2**2\n",
        "three = 3**2\n",
        "four = 4**2\n",
        "five = 5**2\n",
        "\n",
        "print(f\"{one}\\n\",f\"{two}\\n\",f\"{three}\\n\",f\"{four}\\n\",f\"{five}\\n\")"
      ],
      "metadata": {
        "colab": {
          "base_uri": "https://localhost:8080/"
        },
        "id": "MJaOlBUMDeLO",
        "outputId": "41969ad8-3958-45b7-82a0-8b0fd164b668"
      },
      "execution_count": 27,
      "outputs": [
        {
          "output_type": "stream",
          "name": "stdout",
          "text": [
            "1\n",
            " 4\n",
            " 9\n",
            " 16\n",
            " 25\n",
            "\n"
          ]
        }
      ]
    },
    {
      "cell_type": "markdown",
      "source": [
        "## Exercise 6.1"
      ],
      "metadata": {
        "id": "4a5poCyEESBj"
      }
    },
    {
      "cell_type": "code",
      "source": [
        "def numberStatus(number):\n",
        "  if number > 0:\n",
        "    print(\"The number is positive.\")\n",
        "  elif number < 0:\n",
        "    print(\"The number is negative.\")\n",
        "  else:\n",
        "    print(\"the number is zero\")\n",
        "\n",
        "\n",
        "\n",
        "numberStatus(5)"
      ],
      "metadata": {
        "colab": {
          "base_uri": "https://localhost:8080/"
        },
        "id": "Yi9n2i6dEXxC",
        "outputId": "73bd9116-a306-44af-917b-97ffcda6f362"
      },
      "execution_count": 29,
      "outputs": [
        {
          "output_type": "stream",
          "name": "stdout",
          "text": [
            "The number is positive.\n"
          ]
        }
      ]
    },
    {
      "cell_type": "code",
      "source": [
        "numberStatus(-3)"
      ],
      "metadata": {
        "colab": {
          "base_uri": "https://localhost:8080/"
        },
        "id": "vSySBSeVFmhD",
        "outputId": "9b219f0c-2898-43ea-8d86-d09a000779c6"
      },
      "execution_count": 30,
      "outputs": [
        {
          "output_type": "stream",
          "name": "stdout",
          "text": [
            "The number is negative.\n"
          ]
        }
      ]
    },
    {
      "cell_type": "code",
      "source": [
        "numberStatus(0)"
      ],
      "metadata": {
        "colab": {
          "base_uri": "https://localhost:8080/"
        },
        "id": "zFYrzDq0FpNT",
        "outputId": "96d31572-2ad3-4f31-fc91-280a3b31b18f"
      },
      "execution_count": 31,
      "outputs": [
        {
          "output_type": "stream",
          "name": "stdout",
          "text": [
            "the number is zero\n"
          ]
        }
      ]
    },
    {
      "cell_type": "markdown",
      "source": [
        "## Exercise 6.2"
      ],
      "metadata": {
        "id": "SJXcPyKWF1Hn"
      }
    },
    {
      "cell_type": "code",
      "source": [
        "def stringStatus(s1,s2):\n",
        "  if len(s1) > len(s2):\n",
        "    print(s1)\n",
        "  else:\n",
        "    print(s2)\n",
        "\n",
        "\n",
        "stringStatus(\"Sara\",\"Programming\")"
      ],
      "metadata": {
        "colab": {
          "base_uri": "https://localhost:8080/"
        },
        "id": "aS2mG2_eF55X",
        "outputId": "18a71670-28ea-437b-fb0b-7a874190817a"
      },
      "execution_count": 33,
      "outputs": [
        {
          "output_type": "stream",
          "name": "stdout",
          "text": [
            "Programming\n"
          ]
        }
      ]
    },
    {
      "cell_type": "markdown",
      "source": [
        "##Exercise 7.1"
      ],
      "metadata": {
        "id": "xQYwjgGWHN6W"
      }
    },
    {
      "cell_type": "code",
      "source": [
        "def numberBetween(number):\n",
        "  if number >= 10 and number <= 20:\n",
        "    print(f\"The number {number} is between 10 and 20.\")\n",
        "  else:\n",
        "    print(f\"The number {number} is not between 10 and 20.\")\n",
        "\n",
        "\n",
        "numberBetween(15)\n"
      ],
      "metadata": {
        "colab": {
          "base_uri": "https://localhost:8080/"
        },
        "id": "eznKWIZ_HTcf",
        "outputId": "5ac77eb7-2d7e-4262-8ea9-53c6489592fe"
      },
      "execution_count": 34,
      "outputs": [
        {
          "output_type": "stream",
          "name": "stdout",
          "text": [
            "The number 15 is between 10 and 20.\n"
          ]
        }
      ]
    },
    {
      "cell_type": "code",
      "source": [
        "numberBetween(19)"
      ],
      "metadata": {
        "colab": {
          "base_uri": "https://localhost:8080/"
        },
        "id": "nC4c5W6qHrXJ",
        "outputId": "76aa29a3-5ea5-4907-9211-097cb5a30486"
      },
      "execution_count": 35,
      "outputs": [
        {
          "output_type": "stream",
          "name": "stdout",
          "text": [
            "The number 19 is between 10 and 20.\n"
          ]
        }
      ]
    },
    {
      "cell_type": "code",
      "source": [
        "numberBetween(21)"
      ],
      "metadata": {
        "colab": {
          "base_uri": "https://localhost:8080/"
        },
        "id": "twFJLFNWHxBD",
        "outputId": "89228381-b85d-42e8-b141-a246054a6612"
      },
      "execution_count": 36,
      "outputs": [
        {
          "output_type": "stream",
          "name": "stdout",
          "text": [
            "The number 21 is not between 10 and 20.\n"
          ]
        }
      ]
    },
    {
      "cell_type": "markdown",
      "source": [
        "## Exercise 7.2"
      ],
      "metadata": {
        "id": "ym-255LyH4KW"
      }
    },
    {
      "cell_type": "code",
      "source": [
        "def is_leap(year):\n",
        "   if (year % 4 == 0 and year % 100 != 0) or (year % 400 == 0):\n",
        "    return True\n",
        "   else:\n",
        "    return False\n",
        "\n",
        "\n",
        "print(is_leap(2000))"
      ],
      "metadata": {
        "colab": {
          "base_uri": "https://localhost:8080/"
        },
        "id": "uzyfQWokH8Ih",
        "outputId": "ce3e093f-bbb9-4f3a-cb6f-9734f81458ae"
      },
      "execution_count": 37,
      "outputs": [
        {
          "output_type": "stream",
          "name": "stdout",
          "text": [
            "True\n"
          ]
        }
      ]
    },
    {
      "cell_type": "code",
      "source": [
        "print(is_leap(1900))"
      ],
      "metadata": {
        "colab": {
          "base_uri": "https://localhost:8080/"
        },
        "id": "G7a5rIi5I30U",
        "outputId": "bbfba2aa-6e2b-4d80-8e22-dc7fd10859ab"
      },
      "execution_count": 38,
      "outputs": [
        {
          "output_type": "stream",
          "name": "stdout",
          "text": [
            "False\n"
          ]
        }
      ]
    },
    {
      "cell_type": "code",
      "source": [
        "print(is_leap(2024))"
      ],
      "metadata": {
        "colab": {
          "base_uri": "https://localhost:8080/"
        },
        "id": "lGBskIcWI8Ro",
        "outputId": "c9f9ff04-893a-41a9-ec5d-96d7f4e626a2"
      },
      "execution_count": 40,
      "outputs": [
        {
          "output_type": "stream",
          "name": "stdout",
          "text": [
            "True\n"
          ]
        }
      ]
    },
    {
      "cell_type": "markdown",
      "source": [
        "## Exercise 8.1"
      ],
      "metadata": {
        "id": "5NKR012IJFFm"
      }
    },
    {
      "cell_type": "code",
      "source": [
        "def max_of_three(a,b,c):\n",
        "  if a >= b and a >= c:\n",
        "        return a\n",
        "  elif b >= a and b >= c:\n",
        "        return b\n",
        "  else:\n",
        "        return c\n",
        "\n",
        "\n",
        "print(\"The maximum numbe is \",max_of_three(3,7,5))"
      ],
      "metadata": {
        "colab": {
          "base_uri": "https://localhost:8080/"
        },
        "id": "-zn9LdS4JI4r",
        "outputId": "9ecf3063-3c19-4932-8783-3f6776ce47f5"
      },
      "execution_count": 43,
      "outputs": [
        {
          "output_type": "stream",
          "name": "stdout",
          "text": [
            "The maximum numbe is  7\n"
          ]
        }
      ]
    },
    {
      "cell_type": "code",
      "source": [
        "def reverse_string(s):\n",
        "   return s[::-1]\n",
        "\n",
        "\n",
        "print(reverse_string(\"hello\"))"
      ],
      "metadata": {
        "colab": {
          "base_uri": "https://localhost:8080/"
        },
        "id": "FXKp1aXEJ2m6",
        "outputId": "5d43179b-7f45-4261-a311-e625e29fda0a"
      },
      "execution_count": 47,
      "outputs": [
        {
          "output_type": "stream",
          "name": "stdout",
          "text": [
            "olleh\n"
          ]
        }
      ]
    },
    {
      "cell_type": "code",
      "source": [],
      "metadata": {
        "id": "P9Y5WtFFKMPZ"
      },
      "execution_count": null,
      "outputs": []
    }
  ]
}